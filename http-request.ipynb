{
 "cells": [
  {
   "cell_type": "code",
   "execution_count": null,
   "metadata": {},
   "outputs": [],
   "source": [
    "import urllib.request\n",
    "\n",
    "# A basic example of:\n",
    "# - for loop (!!)\n",
    "# - http request\n",
    "# - string contains\n",
    "# - modulo\n",
    "\n",
    "i = 1\n",
    "offlineCount = 0\n",
    "for i in range(365):\n",
    "    contents = urllib.request.urlopen(f\"https://steamcommunity.com/groups/ninf/members/?p={i}\").read()\n",
    "    contents = str(contents)\n",
    "    \n",
    "    if len(contents) > 0:\n",
    "        offlineCount += contents.count('<div class=\"friendSmallText\">Offline</div>')\n",
    "\n",
    "    if i % 50 == 0:\n",
    "        print(f\"{offlineCount}\")"
   ]
  }
 ],
 "metadata": {
  "kernelspec": {
   "display_name": "Python 3",
   "language": "python",
   "name": "python3"
  },
  "language_info": {
   "codemirror_mode": {
    "name": "ipython",
    "version": 3
   },
   "file_extension": ".py",
   "mimetype": "text/x-python",
   "name": "python",
   "nbconvert_exporter": "python",
   "pygments_lexer": "ipython3",
   "version": "3.11.9"
  }
 },
 "nbformat": 4,
 "nbformat_minor": 2
}
